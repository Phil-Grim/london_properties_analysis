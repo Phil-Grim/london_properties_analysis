{
 "cells": [
  {
   "cell_type": "code",
   "execution_count": 3,
   "metadata": {},
   "outputs": [
    {
     "data": {
      "text/html": [
       "<div>\n",
       "<style scoped>\n",
       "    .dataframe tbody tr th:only-of-type {\n",
       "        vertical-align: middle;\n",
       "    }\n",
       "\n",
       "    .dataframe tbody tr th {\n",
       "        vertical-align: top;\n",
       "    }\n",
       "\n",
       "    .dataframe thead th {\n",
       "        text-align: right;\n",
       "    }\n",
       "</style>\n",
       "<table border=\"1\" class=\"dataframe\">\n",
       "  <thead>\n",
       "    <tr style=\"text-align: right;\">\n",
       "      <th></th>\n",
       "      <th>a</th>\n",
       "      <th>b</th>\n",
       "    </tr>\n",
       "  </thead>\n",
       "  <tbody>\n",
       "    <tr>\n",
       "      <th>0</th>\n",
       "      <td>1</td>\n",
       "      <td>2</td>\n",
       "    </tr>\n",
       "    <tr>\n",
       "      <th>1</th>\n",
       "      <td>1</td>\n",
       "      <td>2</td>\n",
       "    </tr>\n",
       "  </tbody>\n",
       "</table>\n",
       "</div>"
      ],
      "text/plain": [
       "   a  b\n",
       "0  1  2\n",
       "1  1  2"
      ]
     },
     "execution_count": 3,
     "metadata": {},
     "output_type": "execute_result"
    }
   ],
   "source": [
    "import pandas as pd\n",
    "\n",
    "lol = [[1,2],[1,2]]\n",
    "df = pd.DataFrame(lol, columns=['a','b'])\n",
    "df"
   ]
  },
  {
   "cell_type": "code",
   "execution_count": 5,
   "metadata": {},
   "outputs": [],
   "source": [
    "df.to_parquet('my_file.parquet', engine='pyarrow')"
   ]
  },
  {
   "cell_type": "code",
   "execution_count": 15,
   "metadata": {},
   "outputs": [
    {
     "ename": "OSError",
     "evalue": "[Errno 36] File name too long: '{\"payload\":{\"allShortcutsEnabled\":false,\"fileTree\":{\"\":{\"items\":[{\"name\":\"flows\",\"path\":\"flows\",\"contentType\":\"directory\"},{\"name\":\"terraform\",\"path\":\"terraform\",\"contentType\":\"directory\"},{\"name\":\".gitignore\",\"path\":\".gitignore\",\"contentType\":\"file\"},{\"name\":\"README.md\",\"path\":\"README.md\",\"contentType\":\"file\"},{\"name\":\"dtypes.yaml\",\"path\":\"dtypes.yaml\",\"contentType\":\"file\"},{\"name\":\"managed-execution.py\",\"path\":\"managed-execution.py\",\"contentType\":\"file\"},{\"name\":\"requirements.txt\",\"path\":\"requirements.txt\",\"contentType\":\"file\"},{\"name\":\"testing.ipynb\",\"path\":\"testing.ipynb\",\"contentType\":\"file\"}],\"totalCount\":8}},\"fileTreeProcessingTime\":2.3304419999999997,\"foldersToFetch\":[],\"repo\":{\"id\":756258139,\"defaultBranch\":\"main\",\"name\":\"london_properties_analysis\",\"ownerLogin\":\"Phil-Grim\",\"currentUserCanPush\":false,\"isFork\":false,\"isEmpty\":false,\"createdAt\":\"2024-02-12T09:58:24.000Z\",\"ownerAvatar\":\"https://avatars.githubusercontent.com/u/140601461?v=4\",\"public\":true,\"private\":false,\"isOrgOwned\":false},\"symbolsExpanded\":false,\"treeExpanded\":true,\"refInfo\":{\"name\":\"main\",\"listCacheKey\":\"v0:1707731905.889771\",\"canEdit\":false,\"refType\":\"branch\",\"currentOid\":\"6f92a132d90de79f92350a69e8e9c159aa59cc0f\"},\"path\":\"dtypes.yaml\",\"currentUser\":null,\"blob\":{\"rawLines\":[\"raw_dtypes:\",\"  id: int\",\"  Property_Link: string\",\"  Address: string\",\"  Outcode: string\",\"  Incode: string\",\"  Price: int\",\"  Listing_Type: string\",\"  Date: datetime64[ns]\",\"  Property_Type: string\",\"  Size_Sqm: float\",\"  Bedrooms: float\",\"  Bathrooms: float\",\"  Ground_Rent: float\",\"  Service_Charge: float\",\"  Tenure_Type: string\",\"  Lease_Length_Years: float\",\"  Estate_Agent: string\",\"  Nearest_Station: string\",\"  Distance_From_Nearest_Station_Miles: float\",\"  Second_Nearest_Station: string\",\"  Distance_From_Second_Nearest_Station_Miles: float\",\"  Third_Nearest_Station: string\",\"  Distance_From_Third_Nearest_Station_Miles: float\",\"  Description: string\"],\"stylingDirectives\":[[{\"start\":0,\"end\":10,\"cssClass\":\"pl-ent\"}],[{\"start\":2,\"end\":4,\"cssClass\":\"pl-ent\"},{\"start\":6,\"end\":9,\"cssClass\":\"pl-s\"}],[{\"start\":2,\"end\":15,\"cssClass\":\"pl-ent\"},{\"start\":17,\"end\":23,\"cssClass\":\"pl-s\"}],[{\"start\":2,\"end\":9,\"cssClass\":\"pl-ent\"},{\"start\":11,\"end\":17,\"cssClass\":\"pl-s\"}],[{\"start\":2,\"end\":9,\"cssClass\":\"pl-ent\"},{\"start\":11,\"end\":17,\"cssClass\":\"pl-s\"}],[{\"start\":2,\"end\":8,\"cssClass\":\"pl-ent\"},{\"start\":10,\"end\":16,\"cssClass\":\"pl-s\"}],[{\"start\":2,\"end\":7,\"cssClass\":\"pl-ent\"},{\"start\":9,\"end\":12,\"cssClass\":\"pl-s\"}],[{\"start\":2,\"end\":14,\"cssClass\":\"pl-ent\"},{\"start\":16,\"end\":22,\"cssClass\":\"pl-s\"}],[{\"start\":2,\"end\":6,\"cssClass\":\"pl-ent\"},{\"start\":8,\"end\":22,\"cssClass\":\"pl-s\"}],[{\"start\":2,\"end\":15,\"cssClass\":\"pl-ent\"},{\"start\":17,\"end\":23,\"cssClass\":\"pl-s\"}],[{\"start\":2,\"end\":10,\"cssClass\":\"pl-ent\"},{\"start\":12,\"end\":17,\"cssClass\":\"pl-s\"}],[{\"start\":2,\"end\":10,\"cssClass\":\"pl-ent\"},{\"start\":12,\"end\":17,\"cssClass\":\"pl-s\"}],[{\"start\":2,\"end\":11,\"cssClass\":\"pl-ent\"},{\"start\":13,\"end\":18,\"cssClass\":\"pl-s\"}],[{\"start\":2,\"end\":13,\"cssClass\":\"pl-ent\"},{\"start\":15,\"end\":20,\"cssClass\":\"pl-s\"}],[{\"start\":2,\"end\":16,\"cssClass\":\"pl-ent\"},{\"start\":18,\"end\":23,\"cssClass\":\"pl-s\"}],[{\"start\":2,\"end\":13,\"cssClass\":\"pl-ent\"},{\"start\":15,\"end\":21,\"cssClass\":\"pl-s\"}],[{\"start\":2,\"end\":20,\"cssClass\":\"pl-ent\"},{\"start\":22,\"end\":27,\"cssClass\":\"pl-s\"}],[{\"start\":2,\"end\":14,\"cssClass\":\"pl-ent\"},{\"start\":16,\"end\":22,\"cssClass\":\"pl-s\"}],[{\"start\":2,\"end\":17,\"cssClass\":\"pl-ent\"},{\"start\":19,\"end\":25,\"cssClass\":\"pl-s\"}],[{\"start\":2,\"end\":37,\"cssClass\":\"pl-ent\"},{\"start\":39,\"end\":44,\"cssClass\":\"pl-s\"}],[{\"start\":2,\"end\":24,\"cssClass\":\"pl-ent\"},{\"start\":26,\"end\":32,\"cssClass\":\"pl-s\"}],[{\"start\":2,\"end\":44,\"cssClass\":\"pl-ent\"},{\"start\":46,\"end\":51,\"cssClass\":\"pl-s\"}],[{\"start\":2,\"end\":23,\"cssClass\":\"pl-ent\"},{\"start\":25,\"end\":31,\"cssClass\":\"pl-s\"}],[{\"start\":2,\"end\":43,\"cssClass\":\"pl-ent\"},{\"start\":45,\"end\":50,\"cssClass\":\"pl-s\"}],[{\"start\":2,\"end\":13,\"cssClass\":\"pl-ent\"},{\"start\":15,\"end\":21,\"cssClass\":\"pl-s\"}]],\"csv\":null,\"csvError\":null,\"dependabotInfo\":{\"showConfigurationBanner\":false,\"configFilePath\":null,\"networkDependabotPath\":\"/Phil-Grim/london_properties_analysis/network/updates\",\"dismissConfigurationNoticePath\":\"/settings/dismiss-notice/dependabot_configuration_notice\",\"configurationNoticeDismissed\":null,\"repoAlertsPath\":\"/Phil-Grim/london_properties_analysis/security/dependabot\",\"repoSecurityAndAnalysisPath\":\"/Phil-Grim/london_properties_analysis/settings/security_analysis\",\"repoOwnerIsOrg\":false,\"currentUserCanAdminRepo\":false},\"displayName\":\"dtypes.yaml\",\"displayUrl\":\"https://github.com/Phil-Grim/london_properties_analysis/blob/main/dtypes.yaml?raw=true\",\"headerInfo\":{\"blobSize\":\"616 Bytes\",\"deleteInfo\":{\"deleteTooltip\":\"You must be signed in to make or propose changes\"},\"editInfo\":{\"editTooltip\":\"You must be signed in to make or propose changes\"},\"ghDesktopPath\":\"https://desktop.github.com\",\"gitLfsPath\":null,\"onBranch\":true,\"shortPath\":\"9a9f0e9\",\"siteNavLoginPath\":\"/login?return_to=https%3A%2F%2Fgithub.com%2FPhil-Grim%2Flondon_properties_analysis%2Fblob%2Fmain%2Fdtypes.yaml\",\"isCSV\":false,\"isRichtext\":false,\"toc\":null,\"lineInfo\":{\"truncatedLoc\":\"25\",\"truncatedSloc\":\"25\"},\"mode\":\"file\"},\"image\":false,\"isCodeownersFile\":null,\"isPlain\":false,\"isValidLegacyIssueTemplate\":false,\"issueTemplateHelpUrl\":\"https://docs.github.com/articles/about-issue-and-pull-request-templates\",\"issueTemplate\":null,\"discussionTemplate\":null,\"language\":\"YAML\",\"languageID\":407,\"large\":false,\"loggedIn\":false,\"newDiscussionPath\":\"/Phil-Grim/london_properties_analysis/discussions/new\",\"newIssuePath\":\"/Phil-Grim/london_properties_analysis/issues/new\",\"planSupportInfo\":{\"repoIsFork\":null,\"repoOwnedByCurrentUser\":null,\"requestFullPath\":\"/Phil-Grim/london_properties_analysis/blob/main/dtypes.yaml\",\"showFreeOrgGatedFeatureMessage\":null,\"showPlanSupportBanner\":null,\"upgradeDataAttributes\":null,\"upgradePath\":null},\"publishBannersInfo\":{\"dismissActionNoticePath\":\"/settings/dismiss-notice/publish_action_from_dockerfile\",\"releasePath\":\"/Phil-Grim/london_properties_analysis/releases/new?marketplace=true\",\"showPublishActionBanner\":false},\"rawBlobUrl\":\"https://github.com/Phil-Grim/london_properties_analysis/raw/main/dtypes.yaml\",\"renderImageOrRaw\":false,\"richText\":null,\"renderedFileInfo\":null,\"shortPath\":null,\"symbolsEnabled\":true,\"tabSize\":8,\"topBannersInfo\":{\"overridingGlobalFundingFile\":false,\"globalPreferredFundingPath\":null,\"repoOwner\":\"Phil-Grim\",\"repoName\":\"london_properties_analysis\",\"showInvalidCitationWarning\":false,\"citationHelpUrl\":\"https://docs.github.com/github/creating-cloning-and-archiving-repositories/creating-a-repository-on-github/about-citation-files\",\"showDependabotConfigurationBanner\":false,\"actionsOnboardingTip\":null},\"truncated\":false,\"viewable\":true,\"workflowRedirectUrl\":null,\"symbols\":{\"timed_out\":false,\"not_analyzed\":true,\"symbols\":[]}},\"copilotInfo\":null,\"copilotAccessAllowed\":false,\"csrf_tokens\":{\"/Phil-Grim/london_properties_analysis/branches\":{\"post\":\"pE8Npr82AELz8XsrpiGRelhd5cyAXSc9XGrJkMMI2BY4HHsfwJYU6AApLow9ah1vXVzVqH5DladgpuF7mCEWMQ\"},\"/repos/preferences\":{\"post\":\"rFCWSWhjLj9A0yduTEQpbixcBXkWdjXo-4MypP1xw-ltNCwJElGUpic3CfNAbH3iPZWjOfiKp6stvdoaFxktqw\"}}},\"title\":\"london_properties_analysis/dtypes.yaml at main · Phil-Grim/london_properties_analysis\"}'",
     "output_type": "error",
     "traceback": [
      "\u001b[0;31m---------------------------------------------------------------------------\u001b[0m",
      "\u001b[0;31mOSError\u001b[0m                                   Traceback (most recent call last)",
      "Cell \u001b[0;32mIn[15], line 7\u001b[0m\n\u001b[1;32m      3\u001b[0m r\u001b[38;5;241m.\u001b[39mtext\n\u001b[1;32m      5\u001b[0m \u001b[38;5;28;01mfrom\u001b[39;00m \u001b[38;5;21;01myaml\u001b[39;00m \u001b[38;5;28;01mimport\u001b[39;00m safe_load\n\u001b[0;32m----> 7\u001b[0m \u001b[38;5;28;01mwith\u001b[39;00m \u001b[38;5;28mopen\u001b[39m(r\u001b[38;5;241m.\u001b[39mtext, \u001b[38;5;124m\"\u001b[39m\u001b[38;5;124mrb\u001b[39m\u001b[38;5;124m\"\u001b[39m) \u001b[38;5;28;01mas\u001b[39;00m schema_yaml:\n\u001b[1;32m      8\u001b[0m     schema \u001b[38;5;241m=\u001b[39m safe_load(schema_yaml)[\u001b[38;5;124m\"\u001b[39m\u001b[38;5;124mraw_dtypes\u001b[39m\u001b[38;5;124m\"\u001b[39m]\n",
      "File \u001b[0;32m~/anaconda3/lib/python3.11/site-packages/IPython/core/interactiveshell.py:286\u001b[0m, in \u001b[0;36m_modified_open\u001b[0;34m(file, *args, **kwargs)\u001b[0m\n\u001b[1;32m    279\u001b[0m \u001b[38;5;28;01mif\u001b[39;00m file \u001b[38;5;129;01min\u001b[39;00m {\u001b[38;5;241m0\u001b[39m, \u001b[38;5;241m1\u001b[39m, \u001b[38;5;241m2\u001b[39m}:\n\u001b[1;32m    280\u001b[0m     \u001b[38;5;28;01mraise\u001b[39;00m \u001b[38;5;167;01mValueError\u001b[39;00m(\n\u001b[1;32m    281\u001b[0m         \u001b[38;5;124mf\u001b[39m\u001b[38;5;124m\"\u001b[39m\u001b[38;5;124mIPython won\u001b[39m\u001b[38;5;124m'\u001b[39m\u001b[38;5;124mt let you open fd=\u001b[39m\u001b[38;5;132;01m{\u001b[39;00mfile\u001b[38;5;132;01m}\u001b[39;00m\u001b[38;5;124m by default \u001b[39m\u001b[38;5;124m\"\u001b[39m\n\u001b[1;32m    282\u001b[0m         \u001b[38;5;124m\"\u001b[39m\u001b[38;5;124mas it is likely to crash IPython. If you know what you are doing, \u001b[39m\u001b[38;5;124m\"\u001b[39m\n\u001b[1;32m    283\u001b[0m         \u001b[38;5;124m\"\u001b[39m\u001b[38;5;124myou can use builtins\u001b[39m\u001b[38;5;124m'\u001b[39m\u001b[38;5;124m open.\u001b[39m\u001b[38;5;124m\"\u001b[39m\n\u001b[1;32m    284\u001b[0m     )\n\u001b[0;32m--> 286\u001b[0m \u001b[38;5;28;01mreturn\u001b[39;00m io_open(file, \u001b[38;5;241m*\u001b[39margs, \u001b[38;5;241m*\u001b[39m\u001b[38;5;241m*\u001b[39mkwargs)\n",
      "\u001b[0;31mOSError\u001b[0m: [Errno 36] File name too long: '{\"payload\":{\"allShortcutsEnabled\":false,\"fileTree\":{\"\":{\"items\":[{\"name\":\"flows\",\"path\":\"flows\",\"contentType\":\"directory\"},{\"name\":\"terraform\",\"path\":\"terraform\",\"contentType\":\"directory\"},{\"name\":\".gitignore\",\"path\":\".gitignore\",\"contentType\":\"file\"},{\"name\":\"README.md\",\"path\":\"README.md\",\"contentType\":\"file\"},{\"name\":\"dtypes.yaml\",\"path\":\"dtypes.yaml\",\"contentType\":\"file\"},{\"name\":\"managed-execution.py\",\"path\":\"managed-execution.py\",\"contentType\":\"file\"},{\"name\":\"requirements.txt\",\"path\":\"requirements.txt\",\"contentType\":\"file\"},{\"name\":\"testing.ipynb\",\"path\":\"testing.ipynb\",\"contentType\":\"file\"}],\"totalCount\":8}},\"fileTreeProcessingTime\":2.3304419999999997,\"foldersToFetch\":[],\"repo\":{\"id\":756258139,\"defaultBranch\":\"main\",\"name\":\"london_properties_analysis\",\"ownerLogin\":\"Phil-Grim\",\"currentUserCanPush\":false,\"isFork\":false,\"isEmpty\":false,\"createdAt\":\"2024-02-12T09:58:24.000Z\",\"ownerAvatar\":\"https://avatars.githubusercontent.com/u/140601461?v=4\",\"public\":true,\"private\":false,\"isOrgOwned\":false},\"symbolsExpanded\":false,\"treeExpanded\":true,\"refInfo\":{\"name\":\"main\",\"listCacheKey\":\"v0:1707731905.889771\",\"canEdit\":false,\"refType\":\"branch\",\"currentOid\":\"6f92a132d90de79f92350a69e8e9c159aa59cc0f\"},\"path\":\"dtypes.yaml\",\"currentUser\":null,\"blob\":{\"rawLines\":[\"raw_dtypes:\",\"  id: int\",\"  Property_Link: string\",\"  Address: string\",\"  Outcode: string\",\"  Incode: string\",\"  Price: int\",\"  Listing_Type: string\",\"  Date: datetime64[ns]\",\"  Property_Type: string\",\"  Size_Sqm: float\",\"  Bedrooms: float\",\"  Bathrooms: float\",\"  Ground_Rent: float\",\"  Service_Charge: float\",\"  Tenure_Type: string\",\"  Lease_Length_Years: float\",\"  Estate_Agent: string\",\"  Nearest_Station: string\",\"  Distance_From_Nearest_Station_Miles: float\",\"  Second_Nearest_Station: string\",\"  Distance_From_Second_Nearest_Station_Miles: float\",\"  Third_Nearest_Station: string\",\"  Distance_From_Third_Nearest_Station_Miles: float\",\"  Description: string\"],\"stylingDirectives\":[[{\"start\":0,\"end\":10,\"cssClass\":\"pl-ent\"}],[{\"start\":2,\"end\":4,\"cssClass\":\"pl-ent\"},{\"start\":6,\"end\":9,\"cssClass\":\"pl-s\"}],[{\"start\":2,\"end\":15,\"cssClass\":\"pl-ent\"},{\"start\":17,\"end\":23,\"cssClass\":\"pl-s\"}],[{\"start\":2,\"end\":9,\"cssClass\":\"pl-ent\"},{\"start\":11,\"end\":17,\"cssClass\":\"pl-s\"}],[{\"start\":2,\"end\":9,\"cssClass\":\"pl-ent\"},{\"start\":11,\"end\":17,\"cssClass\":\"pl-s\"}],[{\"start\":2,\"end\":8,\"cssClass\":\"pl-ent\"},{\"start\":10,\"end\":16,\"cssClass\":\"pl-s\"}],[{\"start\":2,\"end\":7,\"cssClass\":\"pl-ent\"},{\"start\":9,\"end\":12,\"cssClass\":\"pl-s\"}],[{\"start\":2,\"end\":14,\"cssClass\":\"pl-ent\"},{\"start\":16,\"end\":22,\"cssClass\":\"pl-s\"}],[{\"start\":2,\"end\":6,\"cssClass\":\"pl-ent\"},{\"start\":8,\"end\":22,\"cssClass\":\"pl-s\"}],[{\"start\":2,\"end\":15,\"cssClass\":\"pl-ent\"},{\"start\":17,\"end\":23,\"cssClass\":\"pl-s\"}],[{\"start\":2,\"end\":10,\"cssClass\":\"pl-ent\"},{\"start\":12,\"end\":17,\"cssClass\":\"pl-s\"}],[{\"start\":2,\"end\":10,\"cssClass\":\"pl-ent\"},{\"start\":12,\"end\":17,\"cssClass\":\"pl-s\"}],[{\"start\":2,\"end\":11,\"cssClass\":\"pl-ent\"},{\"start\":13,\"end\":18,\"cssClass\":\"pl-s\"}],[{\"start\":2,\"end\":13,\"cssClass\":\"pl-ent\"},{\"start\":15,\"end\":20,\"cssClass\":\"pl-s\"}],[{\"start\":2,\"end\":16,\"cssClass\":\"pl-ent\"},{\"start\":18,\"end\":23,\"cssClass\":\"pl-s\"}],[{\"start\":2,\"end\":13,\"cssClass\":\"pl-ent\"},{\"start\":15,\"end\":21,\"cssClass\":\"pl-s\"}],[{\"start\":2,\"end\":20,\"cssClass\":\"pl-ent\"},{\"start\":22,\"end\":27,\"cssClass\":\"pl-s\"}],[{\"start\":2,\"end\":14,\"cssClass\":\"pl-ent\"},{\"start\":16,\"end\":22,\"cssClass\":\"pl-s\"}],[{\"start\":2,\"end\":17,\"cssClass\":\"pl-ent\"},{\"start\":19,\"end\":25,\"cssClass\":\"pl-s\"}],[{\"start\":2,\"end\":37,\"cssClass\":\"pl-ent\"},{\"start\":39,\"end\":44,\"cssClass\":\"pl-s\"}],[{\"start\":2,\"end\":24,\"cssClass\":\"pl-ent\"},{\"start\":26,\"end\":32,\"cssClass\":\"pl-s\"}],[{\"start\":2,\"end\":44,\"cssClass\":\"pl-ent\"},{\"start\":46,\"end\":51,\"cssClass\":\"pl-s\"}],[{\"start\":2,\"end\":23,\"cssClass\":\"pl-ent\"},{\"start\":25,\"end\":31,\"cssClass\":\"pl-s\"}],[{\"start\":2,\"end\":43,\"cssClass\":\"pl-ent\"},{\"start\":45,\"end\":50,\"cssClass\":\"pl-s\"}],[{\"start\":2,\"end\":13,\"cssClass\":\"pl-ent\"},{\"start\":15,\"end\":21,\"cssClass\":\"pl-s\"}]],\"csv\":null,\"csvError\":null,\"dependabotInfo\":{\"showConfigurationBanner\":false,\"configFilePath\":null,\"networkDependabotPath\":\"/Phil-Grim/london_properties_analysis/network/updates\",\"dismissConfigurationNoticePath\":\"/settings/dismiss-notice/dependabot_configuration_notice\",\"configurationNoticeDismissed\":null,\"repoAlertsPath\":\"/Phil-Grim/london_properties_analysis/security/dependabot\",\"repoSecurityAndAnalysisPath\":\"/Phil-Grim/london_properties_analysis/settings/security_analysis\",\"repoOwnerIsOrg\":false,\"currentUserCanAdminRepo\":false},\"displayName\":\"dtypes.yaml\",\"displayUrl\":\"https://github.com/Phil-Grim/london_properties_analysis/blob/main/dtypes.yaml?raw=true\",\"headerInfo\":{\"blobSize\":\"616 Bytes\",\"deleteInfo\":{\"deleteTooltip\":\"You must be signed in to make or propose changes\"},\"editInfo\":{\"editTooltip\":\"You must be signed in to make or propose changes\"},\"ghDesktopPath\":\"https://desktop.github.com\",\"gitLfsPath\":null,\"onBranch\":true,\"shortPath\":\"9a9f0e9\",\"siteNavLoginPath\":\"/login?return_to=https%3A%2F%2Fgithub.com%2FPhil-Grim%2Flondon_properties_analysis%2Fblob%2Fmain%2Fdtypes.yaml\",\"isCSV\":false,\"isRichtext\":false,\"toc\":null,\"lineInfo\":{\"truncatedLoc\":\"25\",\"truncatedSloc\":\"25\"},\"mode\":\"file\"},\"image\":false,\"isCodeownersFile\":null,\"isPlain\":false,\"isValidLegacyIssueTemplate\":false,\"issueTemplateHelpUrl\":\"https://docs.github.com/articles/about-issue-and-pull-request-templates\",\"issueTemplate\":null,\"discussionTemplate\":null,\"language\":\"YAML\",\"languageID\":407,\"large\":false,\"loggedIn\":false,\"newDiscussionPath\":\"/Phil-Grim/london_properties_analysis/discussions/new\",\"newIssuePath\":\"/Phil-Grim/london_properties_analysis/issues/new\",\"planSupportInfo\":{\"repoIsFork\":null,\"repoOwnedByCurrentUser\":null,\"requestFullPath\":\"/Phil-Grim/london_properties_analysis/blob/main/dtypes.yaml\",\"showFreeOrgGatedFeatureMessage\":null,\"showPlanSupportBanner\":null,\"upgradeDataAttributes\":null,\"upgradePath\":null},\"publishBannersInfo\":{\"dismissActionNoticePath\":\"/settings/dismiss-notice/publish_action_from_dockerfile\",\"releasePath\":\"/Phil-Grim/london_properties_analysis/releases/new?marketplace=true\",\"showPublishActionBanner\":false},\"rawBlobUrl\":\"https://github.com/Phil-Grim/london_properties_analysis/raw/main/dtypes.yaml\",\"renderImageOrRaw\":false,\"richText\":null,\"renderedFileInfo\":null,\"shortPath\":null,\"symbolsEnabled\":true,\"tabSize\":8,\"topBannersInfo\":{\"overridingGlobalFundingFile\":false,\"globalPreferredFundingPath\":null,\"repoOwner\":\"Phil-Grim\",\"repoName\":\"london_properties_analysis\",\"showInvalidCitationWarning\":false,\"citationHelpUrl\":\"https://docs.github.com/github/creating-cloning-and-archiving-repositories/creating-a-repository-on-github/about-citation-files\",\"showDependabotConfigurationBanner\":false,\"actionsOnboardingTip\":null},\"truncated\":false,\"viewable\":true,\"workflowRedirectUrl\":null,\"symbols\":{\"timed_out\":false,\"not_analyzed\":true,\"symbols\":[]}},\"copilotInfo\":null,\"copilotAccessAllowed\":false,\"csrf_tokens\":{\"/Phil-Grim/london_properties_analysis/branches\":{\"post\":\"pE8Npr82AELz8XsrpiGRelhd5cyAXSc9XGrJkMMI2BY4HHsfwJYU6AApLow9ah1vXVzVqH5DladgpuF7mCEWMQ\"},\"/repos/preferences\":{\"post\":\"rFCWSWhjLj9A0yduTEQpbixcBXkWdjXo-4MypP1xw-ltNCwJElGUpic3CfNAbH3iPZWjOfiKp6stvdoaFxktqw\"}}},\"title\":\"london_properties_analysis/dtypes.yaml at main · Phil-Grim/london_properties_analysis\"}'"
     ]
    }
   ],
   "source": [
    "import requests\n",
    "r = requests.get(\"https://github.com/Phil-Grim/london_properties_analysis/blob/main/dtypes.yaml\")\n",
    "r.text\n",
    "\n",
    "from yaml import safe_load\n",
    "\n",
    "with open(r.text, \"rb\") as schema_yaml:\n",
    "    schema = safe_load(schema_yaml)[\"raw_dtypes\"]\n",
    "\n"
   ]
  }
 ],
 "metadata": {
  "kernelspec": {
   "display_name": "Python 3 (ipykernel)",
   "language": "python",
   "name": "python3"
  },
  "language_info": {
   "codemirror_mode": {
    "name": "ipython",
    "version": 3
   },
   "file_extension": ".py",
   "mimetype": "text/x-python",
   "name": "python",
   "nbconvert_exporter": "python",
   "pygments_lexer": "ipython3",
   "version": "3.11.5"
  }
 },
 "nbformat": 4,
 "nbformat_minor": 2
}
